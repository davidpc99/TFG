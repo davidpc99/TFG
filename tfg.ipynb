{
  "nbformat": 4,
  "nbformat_minor": 0,
  "metadata": {
    "colab": {
      "provenance": [],
      "gpuType": "T4"
    },
    "kernelspec": {
      "name": "python3",
      "display_name": "Python 3"
    },
    "language_info": {
      "name": "python"
    }
  },
  "cells": [
    {
      "cell_type": "markdown",
      "source": [
        "# Introducción"
      ],
      "metadata": {
        "id": "FOpPHAs8X-vA"
      }
    },
    {
      "cell_type": "markdown",
      "source": [
        "Este documento ha sido creado para la realización del TFG del estudiante David Pastor Crespo, el cual pertenece al Grado en Ingeniería Informática de la Universidad de alicante.\n",
        "\n",
        "![Universidad-de-Alicante (1).png](data:image/png;base64,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)"
      ],
      "metadata": {
        "id": "MsHmM22aYEEG"
      }
    },
    {
      "cell_type": "markdown",
      "source": [
        "# Preparación del entorno"
      ],
      "metadata": {
        "id": "_ViXghD_jsfe"
      }
    },
    {
      "cell_type": "markdown",
      "source": [
        "## Conexión con Google Drive"
      ],
      "metadata": {
        "id": "yE_Q6apkDb7I"
      }
    },
    {
      "cell_type": "markdown",
      "source": [
        "Para probar el modelo, este se guardará en Google Drive con el objetivo de que todos los resultados sean guardados en este almacenamiento."
      ],
      "metadata": {
        "id": "_CxopdOzEi5g"
      }
    },
    {
      "cell_type": "code",
      "source": [
        "  from google.colab import drive\n",
        "  drive.mount('/content/drive', force_remount=True)\n",
        "  HOME='/content/drive/MyDrive'\n",
        "  %cd $HOME"
      ],
      "metadata": {
        "id": "CfGUuyTiDgbU"
      },
      "execution_count": null,
      "outputs": []
    },
    {
      "cell_type": "markdown",
      "source": [
        "## Clonar el repositorio de GitHub"
      ],
      "metadata": {
        "id": "-7eKjUreF-6H"
      }
    },
    {
      "cell_type": "markdown",
      "source": [
        "Se clonará el repositorio de GitHub para su uso desde Google Colab, de modo que todas las pruebas podrán realizarse desde aquí."
      ],
      "metadata": {
        "id": "2poptzUZGGZt"
      }
    },
    {
      "cell_type": "code",
      "source": [
        "import os\n",
        "tfg_dir = \"tfg_david\" #@param {type:\"string\"}\n",
        "exists = os.path.isdir('$tfg_dir')\n",
        "if not exists:\n",
        "  %mkdir -p $tfg_dir\n",
        "  %cd $HOME/$tfg_dir\n",
        "  !git clone https://github.com/davidpc99/TFG.git\n",
        "%cd $HOME/$tfg_dir/TFG/nlp"
      ],
      "metadata": {
        "id": "n6fGEq_KGoOP"
      },
      "execution_count": null,
      "outputs": []
    },
    {
      "cell_type": "markdown",
      "source": [
        "## Instalación de los requisitos"
      ],
      "metadata": {
        "id": "GQrO9hmijz2B"
      }
    },
    {
      "cell_type": "code",
      "source": [
        "!pip install -r requirements.txt"
      ],
      "metadata": {
        "id": "VqB_u6ikkCUn"
      },
      "execution_count": null,
      "outputs": []
    },
    {
      "cell_type": "markdown",
      "source": [
        "# Datasets"
      ],
      "metadata": {
        "id": "eOsydLZb8xkt"
      }
    },
    {
      "cell_type": "markdown",
      "source": [
        "## Obtención de los Datasets"
      ],
      "metadata": {
        "id": "vBXa6u0fijAA"
      }
    },
    {
      "cell_type": "markdown",
      "source": [
        "Se descargarán los conjuntos de datos necesarios para la realización del entrenamiento y comprobaciones del modelo. Para ello, se descargarán los DataSets de HuggingFace de Wikiann y se guardarán en formato de texto en \"data\". Cabe mencionar que las lenguas seleccionadas tienen que estar en formato ISO 639-1, por lo que en caso de querer el de francés se usará \"fr\". Además, cuando haya que usar varias lenguas se separarán por comas."
      ],
      "metadata": {
        "id": "aw4JPi_49iyI"
      }
    },
    {
      "cell_type": "code",
      "execution_count": null,
      "metadata": {
        "id": "4pfnhydykOCR"
      },
      "outputs": [],
      "source": [
        "%cd $HOME/$tfg_dir/TFG/nlp\n",
        "\"\"\"Paso de los datasets de Wikiann a formato txt.\n",
        "Se encontrarán en data/$directory/\"\"\"\n",
        "\n",
        "#@markdown ### Datasets de Wikiann necesarios\n",
        "language1 = \"fr\" #@param {type:\"string\"}\n",
        "language2 = \"es\" #@param {type:\"string\"}\n",
        "\n",
        "#@markdown ### Nombre de las carpetas donde guardar los datasets\n",
        "data_dir1 = \"french\" #@param {type:\"string\"}\n",
        "data_dir2 = \"french-spanish\" #@param {type:\"string\"}\n",
        "\n",
        "!python loadDataset.py $data_dir1 $language1\n",
        "!python loadDataset.py $data_dir2 $language2"
      ]
    },
    {
      "cell_type": "markdown",
      "source": [
        "## Concatencación del training"
      ],
      "metadata": {
        "id": "16vuVdi8NpTc"
      }
    },
    {
      "cell_type": "markdown",
      "source": [
        "A continuación, se concatenarán los sets de entrenamiento de los dos idiomas en el segundo directorio. De esta forma, se obtiene un conjunto de entrenamiento en francés-español en el segundo directorio."
      ],
      "metadata": {
        "id": "hsCJwP60Nsq3"
      }
    },
    {
      "cell_type": "code",
      "source": [
        "%cp -rf $HOME/$tfg_dir/TFG/nlp/data/$data_dir1/test/ $HOME/$tfg_dir/TFG/nlp/data/$data_dir2/\n",
        "%cp -rf $HOME/$tfg_dir/TFG/nlp/data/$data_dir1/val/ $HOME/$tfg_dir/TFG/nlp/data/$data_dir2/\n",
        "%cat $HOME/$tfg_dir/TFG/nlp/data/$data_dir1/train/sentences.txt >> $HOME/$tfg_dir/TFG/nlp/data/$data_dir2/train/sentences.txt\n",
        "%cat $HOME/$tfg_dir/TFG/nlp/data/$data_dir1/train/labels.txt >> $HOME/$tfg_dir/TFG/nlp/data/$data_dir2/train/labels.txt"
      ],
      "metadata": {
        "id": "MiYeuDjdNt7C"
      },
      "execution_count": null,
      "outputs": []
    },
    {
      "cell_type": "markdown",
      "source": [
        "# Construción de los **vocabularios**\n",
        "\n",
        "\n",
        "\n"
      ],
      "metadata": {
        "id": "LHnPjJ0hiZVz"
      }
    },
    {
      "cell_type": "markdown",
      "source": [
        "Se construirá el vocabulario del conjunto de datos a partir de las oraciones guardadas en el directorio seleccionado anteriormente."
      ],
      "metadata": {
        "id": "GnDwMqF2i-Oq"
      }
    },
    {
      "cell_type": "markdown",
      "source": [
        "## Vocabulario del primer conjunto"
      ],
      "metadata": {
        "id": "VCViDtWjPHb5"
      }
    },
    {
      "cell_type": "code",
      "source": [
        "%cd $HOME/$tfg_dir/TFG/nlp\n",
        "!python build_vocab.py --data_dir data/$data_dir1"
      ],
      "metadata": {
        "id": "iW78EQyOisjQ"
      },
      "execution_count": null,
      "outputs": []
    },
    {
      "cell_type": "markdown",
      "source": [
        "## Vocabulario del segundo conjunto"
      ],
      "metadata": {
        "id": "RGpCJP-lPPnj"
      }
    },
    {
      "cell_type": "code",
      "source": [
        "%cd $HOME/$tfg_dir/TFG/nlp\n",
        "!python build_vocab.py --data_dir data/$data_dir2"
      ],
      "metadata": {
        "id": "4zyHp8dPPbnX"
      },
      "execution_count": null,
      "outputs": []
    },
    {
      "cell_type": "markdown",
      "source": [
        "# Entrenamiento del modelo"
      ],
      "metadata": {
        "id": "GJBZILHebrYK"
      }
    },
    {
      "cell_type": "markdown",
      "source": [
        "## Creación del directorio y los parámetros del entrenamiento"
      ],
      "metadata": {
        "id": "MwXfAvXxyWgx"
      }
    },
    {
      "cell_type": "markdown",
      "source": [
        "Para realizar el entrenamiento del modelo es necesario crear o usar un directorio en que guardar las métricas de entrenamiento (se encontrará en \"experiments\"). En caso de que el directorio no contenga un fichero params.json habrá que subirlo (ejecutando el siguiente código) y deberá tener una estructura como la disponible en \"experiments/base_model/params.json\". **El fichero debe llamarse params.json**.\n"
      ],
      "metadata": {
        "id": "78vtInfzbucK"
      }
    },
    {
      "cell_type": "code",
      "source": [
        "#@markdown ### Directorio en el que entrenar el modelo\n",
        "experiment_dir1 = \"french\" #@param {type:\"string\"}\n",
        "experiment_dir2 = \"french-spanish\" #@param {type:\"string\"}\n",
        "\n",
        "%cd $HOME/$tfg_dir/TFG/nlp/experiments\n",
        "exists = os.path.exists('$experiment_dir1')\n",
        "if not exists:\n",
        "  %mkdir -p $experiment_dir1\n",
        "exists = os.path.exists('$experiment_dir2')\n",
        "if not exists:\n",
        "  %mkdir -p $experiment_dir2\n",
        "%cd $HOME/$tfg_dir/TFG/nlp/experiments/$experiment_dir1\n",
        "exists = os.path.exists('params.json')\n",
        "if not exists:\n",
        "  from google.colab import files\n",
        "  uploaded = files.upload()\n",
        "  filename = next(iter(uploaded))\n",
        "%cd $HOME/$tfg_dir/TFG/nlp/experiments/$experiment_dir2\n",
        "exists = os.path.exists('params.json')\n",
        "if not exists:\n",
        "  %cp $HOME/$tfg_dir/TFG/nlp/experiments/$experiment_dir1/params.json params.json"
      ],
      "metadata": {
        "id": "dxtE8bn_s-yy"
      },
      "execution_count": null,
      "outputs": []
    },
    {
      "cell_type": "markdown",
      "source": [
        "## Realización del entrenamiento"
      ],
      "metadata": {
        "id": "D0X3W0GVyxFW"
      }
    },
    {
      "cell_type": "markdown",
      "source": [
        "En este apartado se realizará el entrenamiento de ambos modelos y se guardarán los resultados en sus respectivos directorios."
      ],
      "metadata": {
        "id": "xWJAIJdtQyC2"
      }
    },
    {
      "cell_type": "markdown",
      "source": [
        "### Modelo monolingüe"
      ],
      "metadata": {
        "id": "NLklrfNgTjXJ"
      }
    },
    {
      "cell_type": "code",
      "source": [
        "%cd $HOME/$tfg_dir/TFG/nlp\n",
        "!python train.py --data_dir data/$data_dir1 --model_dir experiments/$experiment_dir1\n"
      ],
      "metadata": {
        "id": "Gz2dfdoI17zD"
      },
      "execution_count": null,
      "outputs": []
    },
    {
      "cell_type": "markdown",
      "source": [
        "### Modelo multilingüe"
      ],
      "metadata": {
        "id": "hW30qZyQUWNF"
      }
    },
    {
      "cell_type": "code",
      "source": [
        "%cd $HOME/$tfg_dir/TFG/nlp\n",
        "!python train.py --data_dir data/$data_dir2 --model_dir experiments/$experiment_dir2"
      ],
      "metadata": {
        "id": "yzeP46WKUacY"
      },
      "execution_count": null,
      "outputs": []
    },
    {
      "cell_type": "markdown",
      "source": [
        "## Visualización del entrenamiento"
      ],
      "metadata": {
        "id": "F3lcsVGgYoBC"
      }
    },
    {
      "cell_type": "code",
      "source": [
        "%cd $HOME/$tfg_dir/TFG/nlp/experiments/$experiment_dir1\n",
        "import matplotlib.pyplot as plt\n",
        "import numpy as np\n",
        "\n",
        "with open('train_accuracy.txt', 'r') as f:\n",
        "  train_accuracy = [float(row) for row in f]\n",
        "with open('validation_accuracy.txt', 'r') as f:\n",
        "  validation_accuracy = [float(row) for row in f]\n",
        "\n",
        "epoch_list = [item for item in range(1, len(train_accuracy)+1)]\n",
        "xaxis = np.array(epoch_list)\n",
        "\n",
        "fig, (ax1, ax2) = plt.subplots(1, 2)\n",
        "ax1.set_title('Monolingual model')\n",
        "ax1.set(xlabel='Epoch', ylabel='Accuracy')\n",
        "ax1.plot(xaxis, np.array(train_accuracy), label=\"Train Set\")\n",
        "ax1.plot(xaxis, np.array(validation_accuracy), label=\"Validation Set\")\n",
        "ax1.set_ylim(ymin=0.6)\n",
        "ax1.legend()\n",
        "\n",
        "%cd $HOME/$tfg_dir/TFG/nlp/experiments/$experiment_dir2\n",
        "\n",
        "with open('train_accuracy.txt', 'r') as f:\n",
        "  train_accuracy = [float(row) for row in f]\n",
        "with open('validation_accuracy.txt', 'r') as f:\n",
        "  validation_accuracy = [float(row) for row in f]\n",
        "\n",
        "ax2.set_title('Multilingual model')\n",
        "ax2.set(xlabel='Epoch', ylabel='Accuracy')\n",
        "ax2.plot(xaxis, np.array(train_accuracy), label=\"Train Set\")\n",
        "ax2.plot(xaxis, np.array(validation_accuracy), label=\"Validation Set\")\n",
        "ax2.set_ylim(ymin=0.6)\n",
        "ax2.legend()\n",
        "plt.show()"
      ],
      "metadata": {
        "id": "6H7TdOqWYxnn"
      },
      "execution_count": null,
      "outputs": []
    },
    {
      "cell_type": "markdown",
      "source": [
        "## Visualización de la tasa de aprendizaje del scheduler"
      ],
      "metadata": {
        "id": "GOt24VbVP6d1"
      }
    },
    {
      "cell_type": "code",
      "source": [
        "%cd $HOME/$tfg_dir/TFG/nlp/experiments/$experiment_dir1\n",
        "import matplotlib.pyplot as plt\n",
        "import numpy as np\n",
        "\n",
        "with open('scheduler.txt', 'r') as f:\n",
        "  scheduler = [float(row) for row in f]\n",
        "\n",
        "epoch_list = [item for item in range(1, len(train_accuracy)+1)]\n",
        "xaxis = np.array(epoch_list)\n",
        "yaxis = np.array(scheduler)\n",
        "plt.figure(\"Scheduler\")\n",
        "plt.title(\"Scheduler learning rate\")\n",
        "plt.xlabel(\"Epoch\")\n",
        "plt.ylabel(\"Learning rate\")\n",
        "plt.plot(xaxis, yaxis)\n",
        "plt.show()\n",
        "\n"
      ],
      "metadata": {
        "id": "m6TBPqdbehGZ"
      },
      "execution_count": null,
      "outputs": []
    },
    {
      "cell_type": "markdown",
      "source": [
        "# Evaluación del modelo"
      ],
      "metadata": {
        "id": "EJa3YLasvDtr"
      }
    },
    {
      "cell_type": "markdown",
      "source": [
        "## Evaluación monolingüe"
      ],
      "metadata": {
        "id": "DJTuxksJUtem"
      }
    },
    {
      "cell_type": "code",
      "source": [
        "%cd $HOME/$tfg_dir/TFG/nlp\n",
        "!python evaluate.py --data_dir data/$data_dir1 --model_dir experiments/$experiment_dir1"
      ],
      "metadata": {
        "id": "rS5kG1RvvhH2"
      },
      "execution_count": null,
      "outputs": []
    },
    {
      "cell_type": "markdown",
      "source": [
        "## Evaluación multilingüe"
      ],
      "metadata": {
        "id": "NzQATLtMU0tA"
      }
    },
    {
      "cell_type": "code",
      "source": [
        "%cd $HOME/$tfg_dir/TFG/nlp\n",
        "!python evaluate.py --data_dir data/$data_dir2 --model_dir experiments/$experiment_dir2"
      ],
      "metadata": {
        "id": "akH9YP4uU34Y"
      },
      "execution_count": null,
      "outputs": []
    },
    {
      "cell_type": "markdown",
      "source": [
        "# Borrado de la carpeta"
      ],
      "metadata": {
        "id": "IMvpqCx8hRRs"
      }
    },
    {
      "cell_type": "markdown",
      "source": [
        "En caso de querer borrar la carpeta del TFG de drive para realizar los experimentos desde cero, se deberá ejecutar la siguiente celda de código:"
      ],
      "metadata": {
        "id": "sAEsBImAhWpf"
      }
    },
    {
      "cell_type": "code",
      "source": [
        "%cd $HOME\n",
        "%rm -rf /$HOME/$tfg_dir"
      ],
      "metadata": {
        "id": "QvIUmZynhePj"
      },
      "execution_count": null,
      "outputs": []
    }
  ]
}